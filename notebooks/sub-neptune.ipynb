{
 "cells": [
  {
   "cell_type": "code",
   "execution_count": 1,
   "metadata": {},
   "outputs": [
    {
     "name": "stdout",
     "output_type": "stream",
     "text": [
      "Atmodeller initialized with double precision (float64)\n"
     ]
    }
   ],
   "source": [
    "import logging\n",
    "\n",
    "import numpy as np\n",
    "import optimistix as optx\n",
    "\n",
    "from atmodeller import (\n",
    "    InteriorAtmosphere,\n",
    "    Planet,\n",
    "    SolverParameters,\n",
    "    Species,\n",
    "    SpeciesCollection,\n",
    "    debug_logger,\n",
    ")\n",
    "from atmodeller.eos import get_eos_models\n",
    "from atmodeller.solubility import get_solubility_models\n",
    "from atmodeller.thermodata import IronWustiteBuffer\n",
    "\n",
    "logger = debug_logger()\n",
    "logger.setLevel(logging.INFO)\n",
    "# For more output use DEBUG\n",
    "# logger.setLevel(logging.DEBUG)"
   ]
  },
  {
   "cell_type": "markdown",
   "metadata": {},
   "source": [
    "# Sub-Neptune (e.g. K2-18b) models from Bower et al. (2025)"
   ]
  },
  {
   "cell_type": "markdown",
   "metadata": {},
   "source": [
    "The code blocks below must always be run, but then you can preferentially run only the models for ideal or real gases."
   ]
  },
  {
   "cell_type": "markdown",
   "metadata": {},
   "source": [
    "Parameters for the simulations"
   ]
  },
  {
   "cell_type": "code",
   "execution_count": 2,
   "metadata": {},
   "outputs": [],
   "source": [
    "number_of_realisations = 500\n",
    "surface_temperature = 3000.0  # K\n",
    "\n",
    "# For simulations with fixed mass and surface radius:\n",
    "planet_mass = 5.154e25\n",
    "surface_radius = 1.1225e7  # using M-R relation from Hakim+2018\n",
    "mantle_melt_fraction = 1.0  # 0.1\n",
    "\n",
    "RANDOM_SEED = 0\n",
    "np.random.seed(RANDOM_SEED)"
   ]
  },
  {
   "cell_type": "code",
   "execution_count": 3,
   "metadata": {},
   "outputs": [],
   "source": [
    "solubility_models = get_solubility_models()\n",
    "\n",
    "H2O_g = Species.create_gas(\"H2O\", solubility=solubility_models[\"H2O_basalt_dixon95\"])\n",
    "H2_g = Species.create_gas(\"H2\", solubility=solubility_models[\"H2_basalt_hirschmann12\"])\n",
    "O2_g = Species.create_gas(\"O2\")\n",
    "CO_g = Species.create_gas(\"CO\", solubility=solubility_models[\"CO_basalt_yoshioka19\"])\n",
    "CO2_g = Species.create_gas(\"CO2\", solubility=solubility_models[\"CO2_basalt_dixon95\"])\n",
    "CH4_g = Species.create_gas(\"CH4\", solubility=solubility_models[\"CH4_basalt_ardia13\"])\n",
    "\n",
    "idealspecies_withsols = SpeciesCollection((H2O_g, H2_g, O2_g, CO_g, CO2_g, CH4_g))"
   ]
  },
  {
   "cell_type": "code",
   "execution_count": 4,
   "metadata": {},
   "outputs": [],
   "source": [
    "eos_models = get_eos_models()\n",
    "\n",
    "H2O_rg = Species.create_gas(\n",
    "    \"H2O\",\n",
    "    activity=eos_models[\"H2O_cork_holland98\"],\n",
    "    solubility=solubility_models[\"H2O_basalt_dixon95\"],\n",
    ")\n",
    "H2_rg = Species.create_gas(\n",
    "    \"H2\",\n",
    "    activity=eos_models[\"H2_chabrier21\"],\n",
    "    solubility=solubility_models[\"H2_basalt_hirschmann12\"],\n",
    ")\n",
    "O2_rg = Species.create_gas(\"O2\")\n",
    "CO_rg = Species.create_gas(\n",
    "    \"CO\",\n",
    "    activity=eos_models[\"CO_cs_shi92\"],\n",
    "    solubility=solubility_models[\"CO_basalt_yoshioka19\"],\n",
    ")\n",
    "CO2_rg = Species.create_gas(\n",
    "    \"CO2\",\n",
    "    activity=eos_models[\"CO2_cs_shi92\"],\n",
    "    solubility=solubility_models[\"CO2_basalt_dixon95\"],\n",
    ")\n",
    "CH4_rg = Species.create_gas(\n",
    "    \"CH4\",\n",
    "    activity=eos_models[\"CH4_cs_shi92\"],\n",
    "    solubility=solubility_models[\"CH4_basalt_ardia13\"],\n",
    ")\n",
    "\n",
    "realspecies_withsols = SpeciesCollection((H2O_rg, H2_rg, O2_rg, CO_rg, CO2_rg, CH4_rg))"
   ]
  },
  {
   "cell_type": "markdown",
   "metadata": {},
   "source": [
    "## Vary Hydrogen Mass Fraction\n",
    "\n",
    "Hydrogen mass fraction varies from 0.1 to 3% of K2-18b's mass"
   ]
  },
  {
   "cell_type": "code",
   "execution_count": 5,
   "metadata": {},
   "outputs": [],
   "source": [
    "# Vary Linearly:\n",
    "\n",
    "log10_H_frac = np.linspace(-1.0, 0.5, number_of_realisations)  # 0.1 to 3% of planet mass\n",
    "\n",
    "# Fix Values for Linearly Varying Cases:\n",
    "log10_ch_ratios = np.full(number_of_realisations, -0.5)  # 100X Solar\n",
    "fO2_log10_shifts = np.full(number_of_realisations, -3)\n",
    "\n",
    "h_kg = ((10**log10_H_frac) / 100) * planet_mass\n",
    "c_kg = h_kg * 10**log10_ch_ratios\n",
    "\n",
    "mass_constraints = {\n",
    "    \"H\": h_kg,\n",
    "    \"C\": c_kg,\n",
    "}"
   ]
  },
  {
   "cell_type": "code",
   "execution_count": 6,
   "metadata": {},
   "outputs": [],
   "source": [
    "sub_neptune = Planet(\n",
    "    surface_temperature=surface_temperature,\n",
    "    planet_mass=planet_mass,\n",
    "    surface_radius=surface_radius,\n",
    "    mantle_melt_fraction=mantle_melt_fraction,\n",
    ")"
   ]
  },
  {
   "cell_type": "markdown",
   "metadata": {},
   "source": [
    "### Ideal gas with solubilities"
   ]
  },
  {
   "cell_type": "code",
   "execution_count": 7,
   "metadata": {},
   "outputs": [
    {
     "name": "stderr",
     "output_type": "stream",
     "text": [
      "[19:54:38 - atmodeller.classes             - INFO     ] - species = ('H2O_g: IdealGas, SolubilityPowerLaw', 'H2_g: IdealGas, SolubilityPowerLawLog10', 'O2_g: IdealGas, NoSolubility', 'CO_g: IdealGas, _CO_basalt_yoshioka19', 'CO2_g: IdealGas, _CO2_basalt_dixon95', 'CH4_g: IdealGas, _CH4_basalt_ardia13')\n",
      "[19:54:38 - atmodeller.classes             - INFO     ] - Thermodynamic data requires temperatures between 200 K and 6000 K\n",
      "[19:54:38 - atmodeller.classes             - INFO     ] - reactions = {0: '1.0 H2_g + 0.5 O2_g = 1.0 H2O_g',\n",
      " 1: '0.5 O2_g + 1.0 CO_g = 1.0 CO2_g',\n",
      " 2: '2.0 H2_g + 1.0 CO_g = 0.5 O2_g + 1.0 CH4_g'}\n",
      "[19:54:38 - atmodeller.classes             - INFO     ] - Attempting to solve 500 model(s)\n",
      "[19:54:42 - atmodeller.classes             - INFO     ] - Solve complete: 500 (100.00%) successful model(s)\n",
      "[19:54:42 - atmodeller.classes             - INFO     ] - Solver steps (max) = 41\n",
      "[19:54:42 - atmodeller.output              - INFO     ] - Writing output to excel\n",
      "[19:54:42 - atmodeller.output_core         - INFO     ] - Computing to_dataframes output\n",
      "[19:54:42 - atmodeller.output_core         - INFO     ] - Computing asdict output\n",
      "[19:54:45 - atmodeller.output              - INFO     ] - Output written to sub_neptune_ideal_withsol_varyHF.xlsx\n",
      "[19:54:45 - atmodeller.output              - INFO     ] - Writing output to pickle\n",
      "[19:54:45 - atmodeller.output              - INFO     ] - Output written to sub_neptune_ideal_withsol_varyHF.pkl\n"
     ]
    }
   ],
   "source": [
    "solver = optx.LevenbergMarquardt\n",
    "solver_parameters = SolverParameters(solver=solver)\n",
    "\n",
    "model_ideal_varyHF_withsol = InteriorAtmosphere(idealspecies_withsols)\n",
    "\n",
    "fugacity_constraints = {O2_g.name: IronWustiteBuffer(fO2_log10_shifts)}\n",
    "\n",
    "model_ideal_varyHF_withsol.solve(\n",
    "    planet=sub_neptune,\n",
    "    mass_constraints=mass_constraints,\n",
    "    fugacity_constraints=fugacity_constraints,\n",
    "    solver_parameters=solver_parameters,\n",
    ")\n",
    "output_ideal_varyHF_withsol = model_ideal_varyHF_withsol.output\n",
    "\n",
    "# Write the complete solution to Excel\n",
    "output_ideal_varyHF_withsol.to_excel(\"sub_neptune_ideal_withsol_varyHF\")\n",
    "\n",
    "# Write the data to a pickle file with dataframes\n",
    "output_ideal_varyHF_withsol.to_pickle(\"sub_neptune_ideal_withsol_varyHF\")"
   ]
  },
  {
   "cell_type": "markdown",
   "metadata": {},
   "source": [
    "### Real gas with solubility"
   ]
  },
  {
   "cell_type": "code",
   "execution_count": 8,
   "metadata": {},
   "outputs": [
    {
     "name": "stderr",
     "output_type": "stream",
     "text": [
      "[19:54:45 - atmodeller.classes             - INFO     ] - species = ('H2O_g: CombinedRealGas, SolubilityPowerLaw', 'H2_g: CombinedRealGas, SolubilityPowerLawLog10', 'O2_g: IdealGas, NoSolubility', 'CO_g: CombinedRealGas, _CO_basalt_yoshioka19', 'CO2_g: CombinedRealGas, _CO2_basalt_dixon95', 'CH4_g: CombinedRealGas, _CH4_basalt_ardia13')\n",
      "[19:54:45 - atmodeller.classes             - INFO     ] - Thermodynamic data requires temperatures between 200 K and 6000 K\n",
      "[19:54:45 - atmodeller.classes             - INFO     ] - reactions = {0: '1.0 H2_g + 0.5 O2_g = 1.0 H2O_g',\n",
      " 1: '0.5 O2_g + 1.0 CO_g = 1.0 CO2_g',\n",
      " 2: '2.0 H2_g + 1.0 CO_g = 0.5 O2_g + 1.0 CH4_g'}\n",
      "[19:54:45 - atmodeller.classes             - INFO     ] - Attempting to solve 500 model(s)\n",
      "[19:55:10 - atmodeller.classes             - INFO     ] - Solve complete: 500 (100.00%) successful model(s)\n",
      "[19:55:10 - atmodeller.classes             - INFO     ] - Solver steps (max) = 30\n",
      "[19:55:10 - atmodeller.output              - INFO     ] - Writing output to excel\n",
      "[19:55:10 - atmodeller.output_core         - INFO     ] - Computing to_dataframes output\n",
      "[19:55:10 - atmodeller.output_core         - INFO     ] - Computing asdict output\n",
      "[19:55:12 - atmodeller.output              - INFO     ] - Output written to sub_neptune_real_withsol_varyHF.xlsx\n",
      "[19:55:12 - atmodeller.output              - INFO     ] - Writing output to pickle\n",
      "[19:55:12 - atmodeller.output              - INFO     ] - Output written to sub_neptune_real_withsol_varyHF.pkl\n"
     ]
    }
   ],
   "source": [
    "solver = optx.LevenbergMarquardt\n",
    "solver_parameters = SolverParameters(solver=solver)\n",
    "\n",
    "model_real_varyHF_withsol = InteriorAtmosphere(realspecies_withsols)\n",
    "\n",
    "fugacity_constraints = {O2_rg.name: IronWustiteBuffer(fO2_log10_shifts)}\n",
    "\n",
    "model_real_varyHF_withsol.solve(\n",
    "    planet=sub_neptune,\n",
    "    mass_constraints=mass_constraints,\n",
    "    fugacity_constraints=fugacity_constraints,\n",
    "    # Use the ideal solution for the initial guess of the real case\n",
    "    initial_log_number_density=output_ideal_varyHF_withsol.log_number_density,\n",
    "    solver_parameters=solver_parameters,\n",
    ")\n",
    "output_real_varyHF_withsol = model_real_varyHF_withsol.output\n",
    "\n",
    "# Write the complete solution to Excel\n",
    "output_real_varyHF_withsol.to_excel(\"sub_neptune_real_withsol_varyHF\")\n",
    "\n",
    "# Write the data to a pickle file with dataframes\n",
    "output_real_varyHF_withsol.to_pickle(\"sub_neptune_real_withsol_varyHF\")"
   ]
  },
  {
   "cell_type": "markdown",
   "metadata": {},
   "source": [
    "## Vary Oxygen Fugacity\n",
    "\n",
    "fO2 varies from IW-6 to IW"
   ]
  },
  {
   "cell_type": "code",
   "execution_count": 9,
   "metadata": {},
   "outputs": [],
   "source": [
    "# Vary Linearly:\n",
    "fO2_log10_shifts = np.linspace(-6, 0, number_of_realisations)  # IW-6 to IW\n",
    "\n",
    "\n",
    "# Fix Values for Linearly Varying Cases:\n",
    "log10_H_frac = np.full(number_of_realisations, 0)  # 1% of planet mass\n",
    "log10_ch_ratios = np.full(number_of_realisations, -0.5)  # 100X Solar\n",
    "\n",
    "h_kg = ((10**log10_H_frac) / 100) * planet_mass\n",
    "c_kg = h_kg * 10**log10_ch_ratios\n",
    "\n",
    "mass_constraints = {\n",
    "    \"H\": h_kg,\n",
    "    \"C\": c_kg,\n",
    "}"
   ]
  },
  {
   "cell_type": "code",
   "execution_count": 10,
   "metadata": {},
   "outputs": [],
   "source": [
    "sub_neptune = Planet(\n",
    "    surface_temperature=surface_temperature,\n",
    "    planet_mass=planet_mass,\n",
    "    surface_radius=surface_radius,\n",
    "    mantle_melt_fraction=mantle_melt_fraction,\n",
    ")"
   ]
  },
  {
   "cell_type": "markdown",
   "metadata": {},
   "source": [
    "### Ideal gas with solubility"
   ]
  },
  {
   "cell_type": "code",
   "execution_count": 11,
   "metadata": {},
   "outputs": [
    {
     "name": "stderr",
     "output_type": "stream",
     "text": [
      "[19:55:12 - atmodeller.classes             - INFO     ] - species = ('H2O_g: IdealGas, SolubilityPowerLaw', 'H2_g: IdealGas, SolubilityPowerLawLog10', 'O2_g: IdealGas, NoSolubility', 'CO_g: IdealGas, _CO_basalt_yoshioka19', 'CO2_g: IdealGas, _CO2_basalt_dixon95', 'CH4_g: IdealGas, _CH4_basalt_ardia13')\n",
      "[19:55:12 - atmodeller.classes             - INFO     ] - Thermodynamic data requires temperatures between 200 K and 6000 K\n",
      "[19:55:12 - atmodeller.classes             - INFO     ] - reactions = {0: '1.0 H2_g + 0.5 O2_g = 1.0 H2O_g',\n",
      " 1: '0.5 O2_g + 1.0 CO_g = 1.0 CO2_g',\n",
      " 2: '2.0 H2_g + 1.0 CO_g = 0.5 O2_g + 1.0 CH4_g'}\n",
      "[19:55:12 - atmodeller.classes             - INFO     ] - Attempting to solve 500 model(s)\n",
      "[19:55:12 - atmodeller.classes             - INFO     ] - Solve complete: 500 (100.00%) successful model(s)\n",
      "[19:55:12 - atmodeller.classes             - INFO     ] - Solver steps (max) = 41\n",
      "[19:55:12 - atmodeller.output              - INFO     ] - Writing output to excel\n",
      "[19:55:12 - atmodeller.output_core         - INFO     ] - Computing to_dataframes output\n",
      "[19:55:12 - atmodeller.output_core         - INFO     ] - Computing asdict output\n",
      "[19:55:13 - atmodeller.output              - INFO     ] - Output written to sub_neptune_ideal_withsol_varyfO2.xlsx\n",
      "[19:55:13 - atmodeller.output              - INFO     ] - Writing output to pickle\n",
      "[19:55:13 - atmodeller.output              - INFO     ] - Output written to sub_neptune_ideal_withsol_varyfO2.pkl\n"
     ]
    }
   ],
   "source": [
    "solver = optx.LevenbergMarquardt\n",
    "solver_parameters = SolverParameters(solver=solver)\n",
    "\n",
    "model_ideal_varyfO2_withsol = InteriorAtmosphere(idealspecies_withsols)\n",
    "\n",
    "fugacity_constraints = {O2_g.name: IronWustiteBuffer(fO2_log10_shifts)}\n",
    "\n",
    "model_ideal_varyfO2_withsol.solve(\n",
    "    planet=sub_neptune,\n",
    "    mass_constraints=mass_constraints,\n",
    "    fugacity_constraints=fugacity_constraints,\n",
    "    solver_parameters=solver_parameters,\n",
    ")\n",
    "output_ideal_varyfO2_withsol = model_ideal_varyfO2_withsol.output\n",
    "\n",
    "# Write the complete solution to Excel\n",
    "output_ideal_varyfO2_withsol.to_excel(\"sub_neptune_ideal_withsol_varyfO2\")\n",
    "\n",
    "# Write the data to a pickle file with dataframes\n",
    "output_ideal_varyfO2_withsol.to_pickle(\"sub_neptune_ideal_withsol_varyfO2\")"
   ]
  },
  {
   "cell_type": "markdown",
   "metadata": {},
   "source": [
    "### Real gas with solubility"
   ]
  },
  {
   "cell_type": "code",
   "execution_count": 12,
   "metadata": {},
   "outputs": [
    {
     "name": "stderr",
     "output_type": "stream",
     "text": [
      "[19:55:13 - atmodeller.classes             - INFO     ] - species = ('H2O_g: CombinedRealGas, SolubilityPowerLaw', 'H2_g: CombinedRealGas, SolubilityPowerLawLog10', 'O2_g: IdealGas, NoSolubility', 'CO_g: CombinedRealGas, _CO_basalt_yoshioka19', 'CO2_g: CombinedRealGas, _CO2_basalt_dixon95', 'CH4_g: CombinedRealGas, _CH4_basalt_ardia13')\n",
      "[19:55:13 - atmodeller.classes             - INFO     ] - Thermodynamic data requires temperatures between 200 K and 6000 K\n",
      "[19:55:13 - atmodeller.classes             - INFO     ] - reactions = {0: '1.0 H2_g + 0.5 O2_g = 1.0 H2O_g',\n",
      " 1: '0.5 O2_g + 1.0 CO_g = 1.0 CO2_g',\n",
      " 2: '2.0 H2_g + 1.0 CO_g = 0.5 O2_g + 1.0 CH4_g'}\n",
      "[19:55:13 - atmodeller.classes             - INFO     ] - Attempting to solve 500 model(s)\n",
      "[19:55:15 - atmodeller.classes             - INFO     ] - Solve complete: 500 (100.00%) successful model(s)\n",
      "[19:55:15 - atmodeller.classes             - INFO     ] - Solver steps (max) = 21\n",
      "[19:55:15 - atmodeller.output              - INFO     ] - Writing output to excel\n",
      "[19:55:15 - atmodeller.output_core         - INFO     ] - Computing to_dataframes output\n",
      "[19:55:15 - atmodeller.output_core         - INFO     ] - Computing asdict output\n",
      "[19:55:17 - atmodeller.output              - INFO     ] - Output written to sub_neptune_real_withsol_varyfO2.xlsx\n",
      "[19:55:17 - atmodeller.output              - INFO     ] - Writing output to pickle\n",
      "[19:55:17 - atmodeller.output              - INFO     ] - Output written to sub_neptune_real_withsol_varyfO2.pkl\n"
     ]
    }
   ],
   "source": [
    "solver = optx.LevenbergMarquardt\n",
    "solver_parameters = SolverParameters(solver=solver)\n",
    "\n",
    "model_real_varyfO2_withsol = InteriorAtmosphere(realspecies_withsols)\n",
    "\n",
    "fugacity_constraints = {O2_rg.name: IronWustiteBuffer(fO2_log10_shifts)}\n",
    "\n",
    "model_real_varyfO2_withsol.solve(\n",
    "    planet=sub_neptune,\n",
    "    mass_constraints=mass_constraints,\n",
    "    fugacity_constraints=fugacity_constraints,\n",
    "    solver_parameters=solver_parameters,\n",
    "    # Use the ideal solution for the initial guess of the real case\n",
    "    initial_log_number_density=output_ideal_varyfO2_withsol.log_number_density,\n",
    ")\n",
    "output_real_varyfO2_withsol = model_real_varyfO2_withsol.output\n",
    "\n",
    "# Write the complete solution to Excel\n",
    "output_real_varyfO2_withsol.to_excel(\"sub_neptune_real_withsol_varyfO2\")\n",
    "\n",
    "# Write the data to a pickle file with dataframes\n",
    "output_real_varyfO2_withsol.to_pickle(\"sub_neptune_real_withsol_varyfO2\")"
   ]
  },
  {
   "cell_type": "markdown",
   "metadata": {},
   "source": [
    "## Vary C/H Ratio\n",
    "\n",
    "C/H ratio varies from that of solar (log10(C/H) = -2.5) to bulk silicate Earth (log10(C/H)=0.1)"
   ]
  },
  {
   "cell_type": "code",
   "execution_count": 13,
   "metadata": {},
   "outputs": [],
   "source": [
    "# Vary Linearly:\n",
    "log10_ch_ratios = np.linspace(-2.5, 0.1, number_of_realisations)  # Solar to BSE Ratios\n",
    "\n",
    "\n",
    "# Fix Values for Linearly Varying Cases:\n",
    "log10_H_frac = np.full(number_of_realisations, 0)  # 1% of planet mass\n",
    "fO2_log10_shifts = np.full(number_of_realisations, -3)\n",
    "\n",
    "h_kg = ((10**log10_H_frac) / 100) * planet_mass\n",
    "c_kg = h_kg * 10**log10_ch_ratios\n",
    "\n",
    "mass_constraints = {\n",
    "    \"H\": h_kg,\n",
    "    \"C\": c_kg,\n",
    "}"
   ]
  },
  {
   "cell_type": "code",
   "execution_count": 14,
   "metadata": {},
   "outputs": [],
   "source": [
    "sub_neptune = Planet(\n",
    "    surface_temperature=surface_temperature,\n",
    "    planet_mass=planet_mass,\n",
    "    surface_radius=surface_radius,\n",
    "    mantle_melt_fraction=mantle_melt_fraction,\n",
    ")"
   ]
  },
  {
   "cell_type": "markdown",
   "metadata": {},
   "source": [
    "### Ideal gas with solubility"
   ]
  },
  {
   "cell_type": "code",
   "execution_count": 15,
   "metadata": {},
   "outputs": [
    {
     "name": "stderr",
     "output_type": "stream",
     "text": [
      "[19:55:17 - atmodeller.classes             - INFO     ] - species = ('H2O_g: IdealGas, SolubilityPowerLaw', 'H2_g: IdealGas, SolubilityPowerLawLog10', 'O2_g: IdealGas, NoSolubility', 'CO_g: IdealGas, _CO_basalt_yoshioka19', 'CO2_g: IdealGas, _CO2_basalt_dixon95', 'CH4_g: IdealGas, _CH4_basalt_ardia13')\n",
      "[19:55:17 - atmodeller.classes             - INFO     ] - Thermodynamic data requires temperatures between 200 K and 6000 K\n",
      "[19:55:17 - atmodeller.classes             - INFO     ] - reactions = {0: '1.0 H2_g + 0.5 O2_g = 1.0 H2O_g',\n",
      " 1: '0.5 O2_g + 1.0 CO_g = 1.0 CO2_g',\n",
      " 2: '2.0 H2_g + 1.0 CO_g = 0.5 O2_g + 1.0 CH4_g'}\n",
      "[19:55:17 - atmodeller.classes             - INFO     ] - Attempting to solve 500 model(s)\n",
      "[19:55:17 - atmodeller.classes             - INFO     ] - Solve complete: 500 (100.00%) successful model(s)\n",
      "[19:55:17 - atmodeller.classes             - INFO     ] - Solver steps (max) = 36\n",
      "[19:55:17 - atmodeller.output              - INFO     ] - Writing output to excel\n",
      "[19:55:17 - atmodeller.output_core         - INFO     ] - Computing to_dataframes output\n",
      "[19:55:17 - atmodeller.output_core         - INFO     ] - Computing asdict output\n",
      "[19:55:18 - atmodeller.output              - INFO     ] - Output written to sub_neptune_ideal_withsol_varyCtoH.xlsx\n",
      "[19:55:18 - atmodeller.output              - INFO     ] - Writing output to pickle\n",
      "[19:55:18 - atmodeller.output              - INFO     ] - Output written to sub_neptune_ideal_withsol_varyCtoH.pkl\n"
     ]
    }
   ],
   "source": [
    "solver = optx.LevenbergMarquardt\n",
    "solver_parameters = SolverParameters(solver=solver)\n",
    "\n",
    "model_ideal_varyCtoH_withsol = InteriorAtmosphere(idealspecies_withsols)\n",
    "\n",
    "fugacity_constraints = {O2_g.name: IronWustiteBuffer(fO2_log10_shifts)}\n",
    "\n",
    "model_ideal_varyCtoH_withsol.solve(\n",
    "    planet=sub_neptune,\n",
    "    mass_constraints=mass_constraints,\n",
    "    fugacity_constraints=fugacity_constraints,\n",
    "    solver_parameters=solver_parameters,\n",
    ")\n",
    "output_ideal_varyCtoH_withsol = model_ideal_varyCtoH_withsol.output\n",
    "\n",
    "# Write the complete solution to Excel\n",
    "output_ideal_varyCtoH_withsol.to_excel(\"sub_neptune_ideal_withsol_varyCtoH\")\n",
    "\n",
    "# Write the data to a pickle file with dataframes\n",
    "output_ideal_varyCtoH_withsol.to_pickle(\"sub_neptune_ideal_withsol_varyCtoH\")"
   ]
  },
  {
   "cell_type": "markdown",
   "metadata": {},
   "source": [
    "### Real gas with solubility"
   ]
  },
  {
   "cell_type": "code",
   "execution_count": 16,
   "metadata": {},
   "outputs": [
    {
     "name": "stderr",
     "output_type": "stream",
     "text": [
      "[19:55:18 - atmodeller.classes             - INFO     ] - species = ('H2O_g: CombinedRealGas, SolubilityPowerLaw', 'H2_g: CombinedRealGas, SolubilityPowerLawLog10', 'O2_g: IdealGas, NoSolubility', 'CO_g: CombinedRealGas, _CO_basalt_yoshioka19', 'CO2_g: CombinedRealGas, _CO2_basalt_dixon95', 'CH4_g: CombinedRealGas, _CH4_basalt_ardia13')\n",
      "[19:55:18 - atmodeller.classes             - INFO     ] - Thermodynamic data requires temperatures between 200 K and 6000 K\n",
      "[19:55:18 - atmodeller.classes             - INFO     ] - reactions = {0: '1.0 H2_g + 0.5 O2_g = 1.0 H2O_g',\n",
      " 1: '0.5 O2_g + 1.0 CO_g = 1.0 CO2_g',\n",
      " 2: '2.0 H2_g + 1.0 CO_g = 0.5 O2_g + 1.0 CH4_g'}\n",
      "[19:55:18 - atmodeller.classes             - INFO     ] - Attempting to solve 500 model(s)\n",
      "[19:55:20 - atmodeller.classes             - INFO     ] - Solve complete: 500 (100.00%) successful model(s)\n",
      "[19:55:20 - atmodeller.classes             - INFO     ] - Solver steps (max) = 18\n",
      "[19:55:20 - atmodeller.output              - INFO     ] - Writing output to excel\n",
      "[19:55:20 - atmodeller.output_core         - INFO     ] - Computing to_dataframes output\n",
      "[19:55:20 - atmodeller.output_core         - INFO     ] - Computing asdict output\n",
      "[19:55:21 - atmodeller.output              - INFO     ] - Output written to sub_neptune_real_withsol_varyCtoH.xlsx\n",
      "[19:55:21 - atmodeller.output              - INFO     ] - Writing output to pickle\n",
      "[19:55:21 - atmodeller.output              - INFO     ] - Output written to sub_neptune_real_withsol_varyCtoH.pkl\n"
     ]
    }
   ],
   "source": [
    "solver = optx.LevenbergMarquardt\n",
    "solver_parameters = SolverParameters(solver=solver)\n",
    "\n",
    "model_real_varyCtoH_withsol = InteriorAtmosphere(realspecies_withsols)\n",
    "\n",
    "fugacity_constraints = {O2_rg.name: IronWustiteBuffer(fO2_log10_shifts)}\n",
    "\n",
    "model_real_varyCtoH_withsol.solve(\n",
    "    planet=sub_neptune,\n",
    "    mass_constraints=mass_constraints,\n",
    "    fugacity_constraints=fugacity_constraints,\n",
    "    solver_parameters=solver_parameters,\n",
    "    # Use the ideal solution for the initial guess of the real case\n",
    "    initial_log_number_density=output_ideal_varyCtoH_withsol.log_number_density,\n",
    ")\n",
    "output_real_varyCtoH_withsol = model_real_varyCtoH_withsol.output\n",
    "\n",
    "# Write the complete solution to Excel\n",
    "output_real_varyCtoH_withsol.to_excel(\"sub_neptune_real_withsol_varyCtoH\")\n",
    "\n",
    "# Write the data to a pickle file with dataframes\n",
    "output_real_varyCtoH_withsol.to_pickle(\"sub_neptune_real_withsol_varyCtoH\")"
   ]
  },
  {
   "cell_type": "markdown",
   "metadata": {},
   "source": [
    "## Vary Planetary Surface Radius\n",
    "\n",
    "Surface radius varies from 1.76 to 2.6 REarth, planet mass is fixed at 8.63 MEarth"
   ]
  },
  {
   "cell_type": "code",
   "execution_count": 17,
   "metadata": {},
   "outputs": [],
   "source": [
    "# For simulations with varying surface radius:\n",
    "surface_radius = np.linspace(1.1225e7, 1.6647e7, number_of_realisations)  # Vary linearly\n",
    "\n",
    "# Fix Values for Linearly Varying Cases:\n",
    "log10_H_frac = np.full(\n",
    "    number_of_realisations, 0.5\n",
    ")  # ~3% of planet mass, used for fix Surf Radius and Planet Mass cases\n",
    "log10_ch_ratios = np.full(number_of_realisations, -0.5)  # 100X Solar\n",
    "fO2_log10_shifts = np.full(number_of_realisations, -3)\n",
    "\n",
    "h_kg = ((10**log10_H_frac) / 100) * planet_mass\n",
    "c_kg = h_kg * 10**log10_ch_ratios\n",
    "\n",
    "mass_constraints = {\n",
    "    \"H\": h_kg,\n",
    "    \"C\": c_kg,\n",
    "}"
   ]
  },
  {
   "cell_type": "code",
   "execution_count": 18,
   "metadata": {},
   "outputs": [],
   "source": [
    "sub_neptune = Planet(\n",
    "    surface_temperature=surface_temperature,\n",
    "    planet_mass=planet_mass,\n",
    "    surface_radius=surface_radius,\n",
    "    mantle_melt_fraction=mantle_melt_fraction,\n",
    ")"
   ]
  },
  {
   "cell_type": "markdown",
   "metadata": {},
   "source": [
    "### Ideal gas with solubility"
   ]
  },
  {
   "cell_type": "code",
   "execution_count": 19,
   "metadata": {},
   "outputs": [
    {
     "name": "stderr",
     "output_type": "stream",
     "text": [
      "[19:55:21 - atmodeller.classes             - INFO     ] - species = ('H2O_g: IdealGas, SolubilityPowerLaw', 'H2_g: IdealGas, SolubilityPowerLawLog10', 'O2_g: IdealGas, NoSolubility', 'CO_g: IdealGas, _CO_basalt_yoshioka19', 'CO2_g: IdealGas, _CO2_basalt_dixon95', 'CH4_g: IdealGas, _CH4_basalt_ardia13')\n",
      "[19:55:21 - atmodeller.classes             - INFO     ] - Thermodynamic data requires temperatures between 200 K and 6000 K\n",
      "[19:55:21 - atmodeller.classes             - INFO     ] - reactions = {0: '1.0 H2_g + 0.5 O2_g = 1.0 H2O_g',\n",
      " 1: '0.5 O2_g + 1.0 CO_g = 1.0 CO2_g',\n",
      " 2: '2.0 H2_g + 1.0 CO_g = 0.5 O2_g + 1.0 CH4_g'}\n",
      "[19:55:21 - atmodeller.classes             - INFO     ] - Attempting to solve 500 model(s)\n",
      "[19:55:23 - atmodeller.classes             - INFO     ] - Solve complete: 500 (100.00%) successful model(s)\n",
      "[19:55:23 - atmodeller.classes             - INFO     ] - Solver steps (max) = 41\n",
      "[19:55:23 - atmodeller.output              - INFO     ] - Writing output to excel\n",
      "[19:55:23 - atmodeller.output_core         - INFO     ] - Computing to_dataframes output\n",
      "[19:55:23 - atmodeller.output_core         - INFO     ] - Computing asdict output\n",
      "[19:55:24 - atmodeller.output              - INFO     ] - Output written to sub_neptune_ideal_withsol_varyRsurf.xlsx\n",
      "[19:55:24 - atmodeller.output              - INFO     ] - Writing output to pickle\n",
      "[19:55:24 - atmodeller.output              - INFO     ] - Output written to sub_neptune_ideal_withsol_varyRsurf.pkl\n"
     ]
    }
   ],
   "source": [
    "solver = optx.LevenbergMarquardt\n",
    "solver_parameters = SolverParameters(solver=solver)\n",
    "\n",
    "model_ideal_varyRsurf_withsol = InteriorAtmosphere(idealspecies_withsols)\n",
    "\n",
    "fugacity_constraints = {O2_g.name: IronWustiteBuffer(fO2_log10_shifts)}\n",
    "\n",
    "model_ideal_varyRsurf_withsol.solve(\n",
    "    planet=sub_neptune,\n",
    "    mass_constraints=mass_constraints,\n",
    "    fugacity_constraints=fugacity_constraints,\n",
    "    solver_parameters=solver_parameters,\n",
    ")\n",
    "output_ideal_varyRsurf_withsol = model_ideal_varyRsurf_withsol.output\n",
    "\n",
    "# Write the complete solution to Excel\n",
    "output_ideal_varyRsurf_withsol.to_excel(\"sub_neptune_ideal_withsol_varyRsurf\")\n",
    "\n",
    "# Write the data to a pickle file with dataframes\n",
    "output_ideal_varyRsurf_withsol.to_pickle(\"sub_neptune_ideal_withsol_varyRsurf\")"
   ]
  },
  {
   "cell_type": "markdown",
   "metadata": {},
   "source": [
    "### Real gas with solubility"
   ]
  },
  {
   "cell_type": "code",
   "execution_count": 20,
   "metadata": {},
   "outputs": [
    {
     "name": "stderr",
     "output_type": "stream",
     "text": [
      "[19:55:24 - atmodeller.classes             - INFO     ] - species = ('H2O_g: CombinedRealGas, SolubilityPowerLaw', 'H2_g: CombinedRealGas, SolubilityPowerLawLog10', 'O2_g: IdealGas, NoSolubility', 'CO_g: CombinedRealGas, _CO_basalt_yoshioka19', 'CO2_g: CombinedRealGas, _CO2_basalt_dixon95', 'CH4_g: CombinedRealGas, _CH4_basalt_ardia13')\n",
      "[19:55:24 - atmodeller.classes             - INFO     ] - Thermodynamic data requires temperatures between 200 K and 6000 K\n",
      "[19:55:24 - atmodeller.classes             - INFO     ] - reactions = {0: '1.0 H2_g + 0.5 O2_g = 1.0 H2O_g',\n",
      " 1: '0.5 O2_g + 1.0 CO_g = 1.0 CO2_g',\n",
      " 2: '2.0 H2_g + 1.0 CO_g = 0.5 O2_g + 1.0 CH4_g'}\n",
      "[19:55:24 - atmodeller.classes             - INFO     ] - Attempting to solve 500 model(s)\n",
      "[19:55:46 - atmodeller.classes             - INFO     ] - Solve complete: 500 (100.00%) successful model(s)\n",
      "[19:55:46 - atmodeller.classes             - INFO     ] - Solver steps (max) = 30\n",
      "[19:55:46 - atmodeller.output              - INFO     ] - Writing output to excel\n",
      "[19:55:46 - atmodeller.output_core         - INFO     ] - Computing to_dataframes output\n",
      "[19:55:46 - atmodeller.output_core         - INFO     ] - Computing asdict output\n",
      "[19:55:47 - atmodeller.output              - INFO     ] - Output written to sub_neptune_real_withsol_varyRsurf.xlsx\n",
      "[19:55:47 - atmodeller.output              - INFO     ] - Writing output to pickle\n",
      "[19:55:47 - atmodeller.output              - INFO     ] - Output written to sub_neptune_real_withsol_varyRsurf.pkl\n"
     ]
    }
   ],
   "source": [
    "solver = optx.LevenbergMarquardt\n",
    "solver_parameters = SolverParameters(solver=solver)\n",
    "\n",
    "model_real_varyRsurf_withsol = InteriorAtmosphere(realspecies_withsols)\n",
    "\n",
    "fugacity_constraints = {O2_rg.name: IronWustiteBuffer(fO2_log10_shifts)}\n",
    "\n",
    "model_real_varyRsurf_withsol.solve(\n",
    "    planet=sub_neptune,\n",
    "    mass_constraints=mass_constraints,\n",
    "    fugacity_constraints=fugacity_constraints,\n",
    "    solver_parameters=solver_parameters,\n",
    "    # Use the ideal solution for the initial guess of the real case\n",
    "    initial_log_number_density=output_ideal_varyRsurf_withsol.log_number_density,\n",
    ")\n",
    "output_real_varyRsurf_withsol = model_real_varyRsurf_withsol.output\n",
    "\n",
    "# Write the complete solution to Excel\n",
    "output_real_varyRsurf_withsol.to_excel(\"sub_neptune_real_withsol_varyRsurf\")\n",
    "\n",
    "# Write the data to a pickle file with dataframes\n",
    "output_real_varyRsurf_withsol.to_pickle(\"sub_neptune_real_withsol_varyRsurf\")"
   ]
  },
  {
   "cell_type": "markdown",
   "metadata": {},
   "source": [
    "## Vary Planetary Mass\n",
    "\n",
    "Planet mass varies from 4 to 9 MEarth, surface radius is fixed at 1.76 REarth"
   ]
  },
  {
   "cell_type": "code",
   "execution_count": 21,
   "metadata": {},
   "outputs": [],
   "source": [
    "surface_radius = 1.1225e7  # using M-R relation from Hakim+2018\n",
    "\n",
    "\n",
    "# For simulations with varying planet mass:\n",
    "\n",
    "planet_mass_Earths = np.linspace(4, 9, number_of_realisations)  # Vary linearly from 4-9 MEarth\n",
    "planet_mass = planet_mass_Earths * 5.9722e24\n",
    "\n",
    "\n",
    "# Fix Values for Linearly Varying Cases:\n",
    "log10_H_frac = np.full(\n",
    "    number_of_realisations, 0.5\n",
    ")  # ~3% of planet mass, used for fix Surf Radius and Planet Mass cases\n",
    "log10_ch_ratios = np.full(number_of_realisations, -0.5)  # 100X Solar\n",
    "fO2_log10_shifts = np.full(number_of_realisations, -3)\n",
    "\n",
    "h_kg = ((10**log10_H_frac) / 100) * planet_mass\n",
    "c_kg = h_kg * 10**log10_ch_ratios\n",
    "\n",
    "mass_constraints = {\n",
    "    \"H\": h_kg,\n",
    "    \"C\": c_kg,\n",
    "}"
   ]
  },
  {
   "cell_type": "code",
   "execution_count": 22,
   "metadata": {},
   "outputs": [],
   "source": [
    "sub_neptune = Planet(\n",
    "    surface_temperature=surface_temperature,\n",
    "    planet_mass=planet_mass,\n",
    "    surface_radius=surface_radius,\n",
    "    mantle_melt_fraction=mantle_melt_fraction,\n",
    ")"
   ]
  },
  {
   "cell_type": "markdown",
   "metadata": {},
   "source": [
    "### Ideal gas with solubility"
   ]
  },
  {
   "cell_type": "code",
   "execution_count": 23,
   "metadata": {},
   "outputs": [
    {
     "name": "stderr",
     "output_type": "stream",
     "text": [
      "[19:55:47 - atmodeller.classes             - INFO     ] - species = ('H2O_g: IdealGas, SolubilityPowerLaw', 'H2_g: IdealGas, SolubilityPowerLawLog10', 'O2_g: IdealGas, NoSolubility', 'CO_g: IdealGas, _CO_basalt_yoshioka19', 'CO2_g: IdealGas, _CO2_basalt_dixon95', 'CH4_g: IdealGas, _CH4_basalt_ardia13')\n",
      "[19:55:47 - atmodeller.classes             - INFO     ] - Thermodynamic data requires temperatures between 200 K and 6000 K\n",
      "[19:55:47 - atmodeller.classes             - INFO     ] - reactions = {0: '1.0 H2_g + 0.5 O2_g = 1.0 H2O_g',\n",
      " 1: '0.5 O2_g + 1.0 CO_g = 1.0 CO2_g',\n",
      " 2: '2.0 H2_g + 1.0 CO_g = 0.5 O2_g + 1.0 CH4_g'}\n",
      "[19:55:47 - atmodeller.classes             - INFO     ] - Attempting to solve 500 model(s)\n",
      "[19:55:50 - atmodeller.classes             - INFO     ] - Solve complete: 500 (100.00%) successful model(s)\n",
      "[19:55:50 - atmodeller.classes             - INFO     ] - Solver steps (max) = 41\n",
      "[19:55:50 - atmodeller.output              - INFO     ] - Writing output to excel\n",
      "[19:55:50 - atmodeller.output_core         - INFO     ] - Computing to_dataframes output\n",
      "[19:55:50 - atmodeller.output_core         - INFO     ] - Computing asdict output\n",
      "[19:55:51 - atmodeller.output              - INFO     ] - Output written to sub_neptune_ideal_withsol_varyMp.xlsx\n",
      "[19:55:51 - atmodeller.output              - INFO     ] - Writing output to pickle\n",
      "[19:55:51 - atmodeller.output              - INFO     ] - Output written to sub_neptune_ideal_withsol_varyMp.pkl\n"
     ]
    }
   ],
   "source": [
    "solver = optx.LevenbergMarquardt\n",
    "solver_parameters = SolverParameters(solver=solver)\n",
    "\n",
    "model_ideal_varyMp_withsol = InteriorAtmosphere(idealspecies_withsols)\n",
    "\n",
    "fugacity_constraints = {O2_g.name: IronWustiteBuffer(fO2_log10_shifts)}\n",
    "\n",
    "model_ideal_varyMp_withsol.solve(\n",
    "    planet=sub_neptune,\n",
    "    mass_constraints=mass_constraints,\n",
    "    fugacity_constraints=fugacity_constraints,\n",
    "    solver_parameters=solver_parameters,\n",
    ")\n",
    "output_ideal_varyMp_withsol = model_ideal_varyMp_withsol.output\n",
    "\n",
    "# Write the complete solution to Excel\n",
    "output_ideal_varyMp_withsol.to_excel(\"sub_neptune_ideal_withsol_varyMp\")\n",
    "\n",
    "# Write the data to a pickle file with dataframes\n",
    "output_ideal_varyMp_withsol.to_pickle(\"sub_neptune_ideal_withsol_varyMp\")"
   ]
  },
  {
   "cell_type": "markdown",
   "metadata": {},
   "source": [
    "### Real gas with solubility"
   ]
  },
  {
   "cell_type": "code",
   "execution_count": 24,
   "metadata": {},
   "outputs": [
    {
     "name": "stderr",
     "output_type": "stream",
     "text": [
      "[19:55:51 - atmodeller.classes             - INFO     ] - species = ('H2O_g: CombinedRealGas, SolubilityPowerLaw', 'H2_g: CombinedRealGas, SolubilityPowerLawLog10', 'O2_g: IdealGas, NoSolubility', 'CO_g: CombinedRealGas, _CO_basalt_yoshioka19', 'CO2_g: CombinedRealGas, _CO2_basalt_dixon95', 'CH4_g: CombinedRealGas, _CH4_basalt_ardia13')\n",
      "[19:55:51 - atmodeller.classes             - INFO     ] - Thermodynamic data requires temperatures between 200 K and 6000 K\n",
      "[19:55:51 - atmodeller.classes             - INFO     ] - reactions = {0: '1.0 H2_g + 0.5 O2_g = 1.0 H2O_g',\n",
      " 1: '0.5 O2_g + 1.0 CO_g = 1.0 CO2_g',\n",
      " 2: '2.0 H2_g + 1.0 CO_g = 0.5 O2_g + 1.0 CH4_g'}\n",
      "[19:55:51 - atmodeller.classes             - INFO     ] - Attempting to solve 500 model(s)\n",
      "[19:56:13 - atmodeller.classes             - INFO     ] - Solve complete: 500 (100.00%) successful model(s)\n",
      "[19:56:13 - atmodeller.classes             - INFO     ] - Solver steps (max) = 30\n",
      "[19:56:13 - atmodeller.output              - INFO     ] - Writing output to excel\n",
      "[19:56:13 - atmodeller.output_core         - INFO     ] - Computing to_dataframes output\n",
      "[19:56:13 - atmodeller.output_core         - INFO     ] - Computing asdict output\n",
      "[19:56:14 - atmodeller.output              - INFO     ] - Output written to sub_neptune_real_withsol_varyMp.xlsx\n",
      "[19:56:14 - atmodeller.output              - INFO     ] - Writing output to pickle\n",
      "[19:56:14 - atmodeller.output              - INFO     ] - Output written to sub_neptune_real_withsol_varyMp.pkl\n"
     ]
    }
   ],
   "source": [
    "solver = optx.LevenbergMarquardt\n",
    "solver_parameters = SolverParameters(solver=solver)\n",
    "\n",
    "model_real_varyMp_withsol = InteriorAtmosphere(realspecies_withsols)\n",
    "\n",
    "fugacity_constraints = {O2_rg.name: IronWustiteBuffer(fO2_log10_shifts)}\n",
    "\n",
    "model_real_varyMp_withsol.solve(\n",
    "    planet=sub_neptune,\n",
    "    mass_constraints=mass_constraints,\n",
    "    fugacity_constraints=fugacity_constraints,\n",
    "    solver_parameters=solver_parameters,\n",
    "    # Use the ideal solution for the initial guess of the real case\n",
    "    initial_log_number_density=output_ideal_varyMp_withsol.log_number_density,\n",
    ")\n",
    "output_real_varyMp_withsol = model_real_varyMp_withsol.output\n",
    "\n",
    "# Write the complete solution to Excel\n",
    "output_real_varyMp_withsol.to_excel(\"sub_neptune_real_withsol_varyMp\")\n",
    "\n",
    "# Write the data to a pickle file with dataframes\n",
    "output_real_varyMp_withsol.to_pickle(\"sub_neptune_real_withsol_varyMp\")"
   ]
  }
 ],
 "metadata": {
  "kernelspec": {
   "display_name": "Python 3 (ipykernel)",
   "language": "python",
   "name": "python3"
  },
  "language_info": {
   "codemirror_mode": {
    "name": "ipython",
    "version": 3
   },
   "file_extension": ".py",
   "mimetype": "text/x-python",
   "name": "python",
   "nbconvert_exporter": "python",
   "pygments_lexer": "ipython3",
   "version": "3.12.11"
  }
 },
 "nbformat": 4,
 "nbformat_minor": 4
}
